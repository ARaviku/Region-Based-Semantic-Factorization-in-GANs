{
 "cells": [
  {
   "attachments": {},
   "cell_type": "markdown",
   "metadata": {},
   "source": [
    "This notebook is finished by our group, in order to extract the latent code from real images so that we can manipulate the real images with ReSeFa."
   ]
  },
  {
   "cell_type": "code",
   "execution_count": null,
   "metadata": {},
   "outputs": [],
   "source": [
    "## clone the code and download the checkpoint\n",
    "!git clone https://github.com/NVlabs/stylegan2-ada-pytorch\n",
    "!wget https://nvlabs-fi-cdn.nvidia.com/stylegan2-ada-pytorch/pretrained/ffhq.pkl"
   ]
  },
  {
   "cell_type": "code",
   "execution_count": null,
   "metadata": {},
   "outputs": [],
   "source": [
    "## install some packages. if any common package is also missing under your environment, please install them.\n",
    "!pip install click requests tqdm pyspng ninja imageio-ffmpeg==0.4.3"
   ]
  },
  {
   "cell_type": "code",
   "execution_count": null,
   "metadata": {},
   "outputs": [],
   "source": [
    "## run the code to generate latent code and save in npz files.\n",
    "## remember that the input image size should be 1024*1024. you may use the function resize_img() in manipulate.py to resize the image to 1024*1024 before you run the code.\n",
    "## you may change the path of two variables: outdir and target. The target is the path of input image, and the outdir is the folder which the npz file will be stored.\n",
    "%cd ./stylegan2-ada-pytorch\n",
    "!python projector.py --outdir=out --target=img_1024.jpg \\\n",
    "    --network=https://nvlabs-fi-cdn.nvidia.com/stylegan2-ada-pytorch/pretrained/ffhq.pkl"
   ]
  },
  {
   "cell_type": "code",
   "execution_count": null,
   "metadata": {},
   "outputs": [],
   "source": [
    "## read the npz file from /out, and save the image array as npy file.\n",
    "## the code assumes you only have one image and have one npz file in the folder ./out\n",
    "## if you need more images, please revise the paths accordingly.\n",
    "import glob\n",
    "import numpy as np\n",
    "path = glob.glob('out/*')[0]\n",
    "image = np.load(path)\n",
    "np.save('/content/paper_imgs.npy', image)"
   ]
  }
 ],
 "metadata": {
  "language_info": {
   "name": "python"
  },
  "orig_nbformat": 4
 },
 "nbformat": 4,
 "nbformat_minor": 2
}
