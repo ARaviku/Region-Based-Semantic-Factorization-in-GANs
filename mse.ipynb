{
  "cells": [
    {
      "attachments": {},
      "cell_type": "markdown",
      "metadata": {
        "id": "0S5rYJ5_yiry"
      },
      "source": [
        "Function for the MSE calculation of the areas *outside* the mask"
      ]
    },
    {
      "cell_type": "code",
      "execution_count": null,
      "metadata": {
        "colab": {
          "base_uri": "https://localhost:8080/"
        },
        "id": "G4lZNibSyZnO",
        "outputId": "4cbe2e85-ab29-41a1-8280-2abf6a339b93"
      },
      "outputs": [
        {
          "name": "stdout",
          "output_type": "stream",
          "text": [
            "Drive already mounted at /content/drive; to attempt to forcibly remount, call drive.mount(\"/content/drive\", force_remount=True).\n"
          ]
        }
      ],
      "source": [
        "from google.colab import drive\n",
        "drive.mount('/content/drive')"
      ]
    },
    {
      "cell_type": "code",
      "execution_count": null,
      "metadata": {
        "id": "evEuTZPMoOxz"
      },
      "outputs": [],
      "source": [
        "from PIL import Image\n",
        "import torchvision.transforms as transforms\n",
        "import torch\n",
        "import torch.nn as nn\n",
        "\n",
        "# Read the image\n",
        "def mse_out(original_path, modified_path, mask):\n",
        "  original = Image.open(original_path)\n",
        "  modified = Image.open(modified_path)\n",
        "\n",
        "  # Define a transform to convert the image to tensor\n",
        "  transform = transforms.ToTensor()\n",
        "\n",
        "  # Convert the image to PyTorch tensor\n",
        "  original = transform(original)\n",
        "  modified = transform(modified)\n",
        "\n",
        "  #mask the region of interest\n",
        "  center_x = mask[0]*4\n",
        "  center_y = mask[1]*4\n",
        "  height = mask[2]*4\n",
        "  width = mask[3]*4\n",
        "\n",
        "  original[:, int(center_x - height/2): int(center_x + height/2), int(center_y - width/2):int(center_y + width/2)] = 0\n",
        "  modified[:, int(center_x - height/2): int(center_x + height/2), int(center_y - width/2):int(center_y + width/2)] = 0\n",
        "\n",
        "  #compute loss\n",
        "  loss = nn.MSELoss()\n",
        "  reg = (3*1024*1024)/(3*(1024*1024-height*width))*1e3\n",
        "  mse_out = reg * loss((original), (modified))\n",
        "\n",
        "  return mse_out\n"
      ]
    },
    {
      "attachments": {},
      "cell_type": "markdown",
      "metadata": {
        "id": "9orGcHkfylGH"
      },
      "source": [
        "Function for the MSE calculation of the areas *inside* the mask"
      ]
    },
    {
      "cell_type": "code",
      "execution_count": null,
      "metadata": {
        "id": "Vn07S5B3ykpG"
      },
      "outputs": [],
      "source": [
        "from PIL import Image\n",
        "import torchvision.transforms as transforms\n",
        "import torch\n",
        "import torch.nn as nn\n",
        "\n",
        "# Read the image\n",
        "def mse_in(original_path, modified_path, mask):\n",
        "  original = Image.open(original_path)\n",
        "  modified = Image.open(modified_path)\n",
        "\n",
        "  # Define a transform to convert the image to tensor\n",
        "  transform = transforms.ToTensor()\n",
        "\n",
        "  # Convert the image to PyTorch tensor\n",
        "  original = transform(original)\n",
        "  modified = transform(modified)\n",
        "\n",
        "  #mask the region of interest\n",
        "  center_x = mask[0]*4\n",
        "  center_y = mask[1]*4\n",
        "  height = mask[2]*4\n",
        "  width = mask[3]*4\n",
        "\n",
        "\n",
        "  original_roi = original[:, int(center_x - height/2): int(center_x + height/2), int(center_y - width/2):int(center_y + width/2)]\n",
        "  modified_roi = modified[:, int(center_x - height/2): int(center_x + height/2), int(center_y - width/2):int(center_y + width/2)]\n",
        "\n",
        "  #compute loss\n",
        "  loss = nn.MSELoss()\n",
        "  reg = (3*1024*1024)/(3*(1024*1024-height*width))*1e3\n",
        "  mse_in = reg * loss((original_roi), (modified_roi))\n",
        "  return mse_in"
      ]
    },
    {
      "attachments": {},
      "cell_type": "markdown",
      "metadata": {},
      "source": [
        "For the MSE calculation (\"Close Eye\" for example):"
      ]
    },
    {
      "cell_type": "code",
      "execution_count": null,
      "metadata": {
        "id": "jaFw3pIC1NsL"
      },
      "outputs": [],
      "source": [
        "import glob\n",
        "original_list = sorted(glob.glob(\"seed_2_num_1000_stylegan2_eyesize/*.jpg\"))\n",
        "modified_list = sorted(glob.glob(\"seed_2_num_1000_stylegan2_eyesize_originals/*.jpg\"))"
      ]
    },
    {
      "attachments": {},
      "cell_type": "markdown",
      "metadata": {},
      "source": [
        "MSE (outside the mask)"
      ]
    },
    {
      "cell_type": "code",
      "execution_count": null,
      "metadata": {
        "id": "S8X0YZGg1NoA"
      },
      "outputs": [],
      "source": [
        "# mask for eyes\n",
        "mask = [120, 128, 20, 115]\n",
        "MSE_outs = []\n",
        "for i in range(len(original_list)):\n",
        "  original_name = original_list[i].split(\"/\")[-1]\n",
        "  modified_name = modified_list[i].split(\"/\")[-1]\n",
        "  assert original_name[:5] == modified_name[:5]\n",
        "  \n",
        "  MSE_out = mse_out(original_list[i], modified_list[i], mask)\n",
        "  MSE_outs.append(MSE_out)\n",
        "\n",
        "torch.mean(torch.tensor(MSE_outs))"
      ]
    },
    {
      "attachments": {},
      "cell_type": "markdown",
      "metadata": {},
      "source": [
        "MSE (inside the mask)"
      ]
    },
    {
      "cell_type": "code",
      "execution_count": null,
      "metadata": {
        "id": "ulSZPXsyTyta"
      },
      "outputs": [],
      "source": [
        "#mask for eyes\n",
        "mask = [120, 128, 20, 115]\n",
        "MSE_ins = []\n",
        "for i in range(len(original_list)):\n",
        "  original_name = original_list[i].split(\"/\")[-1]\n",
        "  modified_name = modified_list[i].split(\"/\")[-1]\n",
        "  assert original_name[:5] == modified_name[:5]\n",
        "    \n",
        "  MSE_in = mse_in(original_list[i], modified_list[i], mask)\n",
        "  MSE_ins.append(MSE_in)\n",
        "\n",
        "torch.mean(torch.tensor(MSE_ins))"
      ]
    },
    {
      "attachments": {},
      "cell_type": "markdown",
      "metadata": {},
      "source": [
        "For the MSE calculation (\"Close Mouth\"):"
      ]
    },
    {
      "cell_type": "code",
      "execution_count": null,
      "metadata": {
        "id": "jaFw3pIC1NsL"
      },
      "outputs": [],
      "source": [
        "import glob\n",
        "original_list = sorted(glob.glob(\"seed_4_num_1000_stylegan2_mouth/*.jpg\"))\n",
        "modified_list = sorted(glob.glob(\"seed_4_num_1000_stylegan2_mouth_originals/*.jpg\"))"
      ]
    },
    {
      "attachments": {},
      "cell_type": "markdown",
      "metadata": {},
      "source": [
        "MSE (outside the mask)"
      ]
    },
    {
      "cell_type": "code",
      "execution_count": null,
      "metadata": {
        "id": "S8X0YZGg1NoA"
      },
      "outputs": [],
      "source": [
        "# mask for mouth\n",
        "mask = [184, 127, 30, 70]\n",
        "MSE_outs = []\n",
        "for i in range(len(original_list)):\n",
        "  original_name = original_list[i].split(\"/\")[-1]\n",
        "  modified_name = modified_list[i].split(\"/\")[-1]\n",
        "  assert original_name[:5] == modified_name[:5]\n",
        "  \n",
        "  MSE_out = mse_out(original_list[i], modified_list[i], mask)\n",
        "  MSE_outs.append(MSE_out)\n",
        "\n",
        "torch.mean(torch.tensor(MSE_outs))"
      ]
    },
    {
      "attachments": {},
      "cell_type": "markdown",
      "metadata": {},
      "source": [
        "MSE (inside the mask)"
      ]
    },
    {
      "cell_type": "code",
      "execution_count": null,
      "metadata": {
        "id": "ulSZPXsyTyta"
      },
      "outputs": [],
      "source": [
        "# mask for mouth\n",
        "mask = [184, 127, 30, 70]\n",
        "MSE_ins = []\n",
        "for i in range(len(original_list)):\n",
        "  original_name = original_list[i].split(\"/\")[-1]\n",
        "  modified_name = modified_list[i].split(\"/\")[-1]\n",
        "  assert original_name[:5] == modified_name[:5]\n",
        "    \n",
        "  MSE_in = mse_in(original_list[i], modified_list[i], mask)\n",
        "  MSE_ins.append(MSE_in)\n",
        "\n",
        "torch.mean(torch.tensor(MSE_ins))"
      ]
    },
    {
      "attachments": {},
      "cell_type": "markdown",
      "metadata": {},
      "source": [
        "For the MSE calculation (\"Lipstick\"):"
      ]
    },
    {
      "cell_type": "code",
      "execution_count": null,
      "metadata": {
        "id": "jaFw3pIC1NsL"
      },
      "outputs": [],
      "source": [
        "import glob\n",
        "original_list = sorted(glob.glob(\"seed_1_num_1000_stylegan2_lipstick/*.jpg\"))\n",
        "modified_list = sorted(glob.glob(\"seed_1_num_1000_stylegan2_lipstick_originals/*.jpg\"))"
      ]
    },
    {
      "attachments": {},
      "cell_type": "markdown",
      "metadata": {},
      "source": [
        "MSE (outside the mask)"
      ]
    },
    {
      "cell_type": "code",
      "execution_count": null,
      "metadata": {
        "id": "S8X0YZGg1NoA"
      },
      "outputs": [],
      "source": [
        "# mask for mouth\n",
        "mask = [184, 127, 30, 70]\n",
        "MSE_outs = []\n",
        "for i in range(len(original_list)):\n",
        "  original_name = original_list[i].split(\"/\")[-1]\n",
        "  modified_name = modified_list[i].split(\"/\")[-1]\n",
        "  assert original_name[:5] == modified_name[:5]\n",
        "  \n",
        "  MSE_out = mse_out(original_list[i], modified_list[i], mask)\n",
        "  MSE_outs.append(MSE_out)\n",
        "\n",
        "torch.mean(torch.tensor(MSE_outs))"
      ]
    },
    {
      "attachments": {},
      "cell_type": "markdown",
      "metadata": {},
      "source": [
        "MSE (inside the mask)"
      ]
    },
    {
      "cell_type": "code",
      "execution_count": null,
      "metadata": {
        "id": "ulSZPXsyTyta"
      },
      "outputs": [],
      "source": [
        "# mask for mouth\n",
        "mask = [184, 127, 30, 70]\n",
        "MSE_ins = []\n",
        "for i in range(len(original_list)):\n",
        "  original_name = original_list[i].split(\"/\")[-1]\n",
        "  modified_name = modified_list[i].split(\"/\")[-1]\n",
        "  assert original_name[:5] == modified_name[:5]\n",
        "    \n",
        "  MSE_in = mse_in(original_list[i], modified_list[i], mask)\n",
        "  MSE_ins.append(MSE_in)\n",
        "\n",
        "torch.mean(torch.tensor(MSE_ins))"
      ]
    }
  ],
  "metadata": {
    "colab": {
      "provenance": []
    },
    "gpuClass": "standard",
    "kernelspec": {
      "display_name": "Python 3",
      "name": "python3"
    },
    "language_info": {
      "name": "python"
    }
  },
  "nbformat": 4,
  "nbformat_minor": 0
}
