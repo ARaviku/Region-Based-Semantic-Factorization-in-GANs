{
  "cells": [
    {
      "cell_type": "code",
      "execution_count": null,
      "metadata": {
        "id": "WY5Ija3csrWr"
      },
      "outputs": [],
      "source": [
        "# !git clone \"https://github.com/ronghuaiyang/arcface-pytorch.git\"\n",
        "!gdown 1FHAmFhGjAb9Tce7LVQbHpepickLQBL03\n",
        "!unzip id.zip"
      ]
    },
    {
      "cell_type": "code",
      "execution_count": null,
      "metadata": {
        "colab": {
          "base_uri": "https://localhost:8080/"
        },
        "id": "LhuJ1FY-CfoN",
        "outputId": "9f79c03f-e33f-499b-99de-5bd8ac068622"
      },
      "outputs": [
        {
          "name": "stdout",
          "output_type": "stream",
          "text": [
            "Downloading...\n",
            "From: https://drive.google.com/uc?id=15ZrRRzqwK05QQSIkYSJHrpxEzV6eiVpY\n",
            "To: /content/resnet18_110.pth\n",
            "100% 103M/103M [00:00<00:00, 215MB/s] \n"
          ]
        }
      ],
      "source": [
        "# download the checkpoint of resnet18\n",
        "!gdown 15ZrRRzqwK05QQSIkYSJHrpxEzV6eiVpY"
      ]
    },
    {
      "cell_type": "code",
      "execution_count": null,
      "metadata": {
        "id": "VBzkX8Dd_TH-"
      },
      "outputs": [],
      "source": [
        "import glob\n",
        "import os\n",
        "\n",
        "# set paths to saved images\n",
        "lipstick_original = sorted(glob.glob('/content/drive/MyDrive/eecs553/project/seed_1_num_1000_stylegan2_lipstick_originals/*'))\n",
        "lipstick_manipulated = sorted(glob.glob('/content/drive/MyDrive/eecs553/project/seed_1_num_1000_stylegan2_lipstick/*'))\n",
        "eyesize_original = sorted(glob.glob('/content/drive/MyDrive/eecs553/project/seed_2_num_1000_stylegan2_eyesize_originals/*'))\n",
        "eyesize_manipulated = sorted(glob.glob('/content/drive/MyDrive/eecs553/project/seed_2_num_1000_stylegan2_eyesize/*'))\n",
        "mouth_original = sorted(glob.glob('/content/drive/MyDrive/eecs553/project/seed_4_num_1000_stylegan2_mouth_originals/*'))\n",
        "mouth_manipulated = sorted(glob.glob('/content/drive/MyDrive/eecs553/project/seed_4_num_1000_stylegan2_mouth/*'))\n",
        "stylespace_original = sorted(glob.glob('/content/drive/MyDrive/eecs553/project/stylespace_originals/*'))\n",
        "stylespace_close_eyes = sorted(glob.glob('/content/drive/MyDrive/eecs553/project/stylespace_close_eye/*'))\n",
        "stylespace_close_mouth = sorted(glob.glob('/content/drive/MyDrive/eecs553/project/stylespace_close_mouth/*'))\n",
        "stylespace_lipstick = sorted(glob.glob('/content/drive/MyDrive/eecs553/project/stylespace_lipstick/*'))\n",
        "\n",
        "stylegan2_lipstick_pairs = []\n",
        "stylegan2_eyesize_pairs = []\n",
        "stylegan2_mouth_pairs = []\n",
        "stylespace_eyes_pairs = []\n",
        "stylespace_mouth_pairs = []\n",
        "stylespace_lipstick_pairs = []\n",
        "label = 1\n",
        "# save the image paths for a pair of image (original image & manipulated image)\n",
        "for i in range(len(lipstick_original)):\n",
        "  a = lipstick_original[i]\n",
        "  b = lipstick_manipulated[i]\n",
        "  stylegan2_lipstick_pairs.append([a, b, label])\n",
        "\n",
        "  c = eyesize_original[i]\n",
        "  d = eyesize_manipulated[i]\n",
        "  stylegan2_eyesize_pairs.append([c, d, label])\n",
        "\n",
        "  e = mouth_original[i]\n",
        "  f = mouth_manipulated[i]\n",
        "  stylegan2_mouth_pairs.append([e, f, label])\n",
        "\n",
        "  g = stylespace_original[i]\n",
        "  h = stylespace_close_eyes[i]\n",
        "  stylespace_eyes_pairs.append([g, h, label])\n",
        "\n",
        "  m = stylespace_original[i]\n",
        "  n = stylespace_close_mouth[i]\n",
        "  stylespace_mouth_pairs.append([m, n, label])\n",
        "\n",
        "  k = stylespace_original[i]\n",
        "  l = stylespace_lipstick[i]\n",
        "  stylespace_lipstick_pairs.append([k, l, label])\n"
      ]
    },
    {
      "cell_type": "code",
      "execution_count": null,
      "metadata": {
        "id": "mQnl4E5bB8EE"
      },
      "outputs": [],
      "source": [
        "# calculate the ID score for manipulation \"lipstick\" in ReSeFa\n",
        "print(\"stylegan2_lipstick_pairs\")\n",
        "for i, item in enumerate(stylegan2_lipstick_pairs):\n",
        "  txt_path = './arcface-pytorch/paths/id_test' + str(i).zfill(4) + \".txt\"\n",
        "  with open(txt_path, 'w') as fp:\n",
        "      fp.write(\"%s  %s  %d\\n\" %(item[0], item[1], item[2]))\n",
        "\n",
        "!python3 ./arcface-pytorch/test.py"
      ]
    },
    {
      "cell_type": "code",
      "execution_count": null,
      "metadata": {
        "id": "Yuh2dFu7Bu-q"
      },
      "outputs": [],
      "source": [
        "# calculate the ID score for manipulation \"close eye\" in ReSeFa\n",
        "print(\"stylegan2_eyesize_pairs\")\n",
        "for i, item in enumerate(stylegan2_eyesize_pairs):\n",
        "  txt_path = './arcface-pytorch/paths/id_test' + str(i).zfill(4) + \".txt\"\n",
        "  with open(txt_path, 'w') as fp:\n",
        "      fp.write(\"%s  %s  %d\\n\" %(item[0], item[1], item[2]))\n",
        "\n",
        "!python3 ./arcface-pytorch/test.py"
      ]
    },
    {
      "cell_type": "code",
      "execution_count": null,
      "metadata": {
        "id": "9KApRjlTFLHm"
      },
      "outputs": [],
      "source": [
        "# calculate the ID score for manipulation \"close mouth\" in ReSeFa\n",
        "print(\"stylegan2_mouth_pairs\")\n",
        "for i, item in enumerate(stylegan2_mouth_pairs):\n",
        "  txt_path = './arcface-pytorch/paths/id_test' + str(i).zfill(4) + \".txt\"\n",
        "  with open(txt_path, 'w') as fp:\n",
        "      fp.write(\"%s  %s  %d\\n\" %(item[0], item[1], item[2]))\n",
        "\n",
        "!python3 ./arcface-pytorch/test.py"
      ]
    },
    {
      "cell_type": "code",
      "execution_count": null,
      "metadata": {
        "id": "w8AkrPsKFKHZ"
      },
      "outputs": [],
      "source": [
        "# calculate the ID score for manipulation \"close eye\" in StyleSpace\n",
        "print(\"stylespace_eyes_pairs\")\n",
        "for i, item in enumerate(stylespace_eyes_pairs):\n",
        "  txt_path = './arcface-pytorch/paths/id_test' + str(i).zfill(4) + \".txt\"\n",
        "  with open(txt_path, 'w') as fp:\n",
        "      fp.write(\"%s  %s  %d\\n\" %(item[0], item[1], item[2]))\n",
        "\n",
        "!python3 ./arcface-pytorch/test.py"
      ]
    },
    {
      "cell_type": "code",
      "execution_count": null,
      "metadata": {
        "id": "AFnj6eqfFJ5l"
      },
      "outputs": [],
      "source": [
        "# calculate the ID score for manipulation \"close mouth\" in StyleSpace\n",
        "print(\"stylespace_mouth_pairs\")\n",
        "for i, item in enumerate(stylespace_mouth_pairs):\n",
        "  txt_path = './arcface-pytorch/paths/id_test' + str(i).zfill(4) + \".txt\"\n",
        "  with open(txt_path, 'w') as fp:\n",
        "      fp.write(\"%s  %s  %d\\n\" %(item[0], item[1], item[2]))\n",
        "\n",
        "!python3 ./arcface-pytorch/test.py"
      ]
    },
    {
      "cell_type": "code",
      "execution_count": null,
      "metadata": {
        "id": "xedmZGLRFJvj"
      },
      "outputs": [],
      "source": [
        "# calculate the ID score for manipulation \"lipstick\" in StyleSpace\n",
        "print(\"stylespace_lipstick_pairs\")\n",
        "for i, item in enumerate(stylespace_lipstick_pairs):\n",
        "  txt_path = './arcface-pytorch/paths/id_test' + str(i).zfill(4) + \".txt\"\n",
        "  with open(txt_path, 'w') as fp:\n",
        "      fp.write(\"%s  %s  %d\\n\" %(item[0], item[1], item[2]))\n",
        "\n",
        "!python3 ./arcface-pytorch/test.py"
      ]
    }
  ],
  "metadata": {
    "accelerator": "GPU",
    "colab": {
      "provenance": []
    },
    "gpuClass": "standard",
    "kernelspec": {
      "display_name": "Python 3",
      "name": "python3"
    },
    "language_info": {
      "name": "python"
    }
  },
  "nbformat": 4,
  "nbformat_minor": 0
}
